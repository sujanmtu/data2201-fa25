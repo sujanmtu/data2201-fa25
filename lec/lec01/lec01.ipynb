{
 "cells": [
  {
   "attachments": {},
   "cell_type": "markdown",
   "id": "e789eaac-048e-4ab7-97d5-c85714353de7",
   "metadata": {},
   "source": [
    "# Lecture 1 - Introduction\n",
    "\n",
    "### DATA 2201, Fall 2025\n",
    "\n",
    "## Resources \n",
    "\n",
    "* Course Website [Canvas](https://mtu.instructure.com/courses/1571598)\n",
    "    * Where all lectures, assignments, and readings are posted. \n",
    "* JupyterHub \n",
    "    * Where you will work on lectures and assignments (links on Canvas will take you here)\n",
    "* Discussion [Ed](https://edstem.org/us/courses/81046/)\n",
    "    * Where you should ask and answer questions on assignments and concepts\n",
    "    * Where announcements will be posted (assignment clarifications, course logistics, etc.)\n",
    "* Submit Assignments [Gradescope](https://www.gradescope.com/courses/1073735)\n",
    "    * Where all assignments are submitted\n",
    "    * Where you can view the grading / feedback on your submissions. \n",
    "* Textbook and Notes [Learning Data Science (LDS)](https://learningds.org/intro.html)\n",
    "    * Links to topics and notes for lectures (available on Canvas)\n",
    "    * Supplemental reading\n"
   ]
  },
  {
   "cell_type": "markdown",
   "id": "7aaf2d9a-fd50-4ffc-bcad-6de026de983e",
   "metadata": {},
   "source": [
    "## Software Packages \n",
    "\n",
    "We will be using a wide range of different Python software packages. Note, the packages are already available on your JupyterHub.  If you want to replicate this environment on your local machine you can use the Conda environment manager.  The following is a list of packages we will routinely use in lectures and homeworks:"
   ]
  },
  {
   "cell_type": "code",
   "execution_count": null,
   "id": "ed29a188-e5ec-4297-bde6-b6bb7dd9772b",
   "metadata": {},
   "outputs": [],
   "source": [
    "# Linear algebra, probability\n",
    "import numpy as np\n",
    "\n",
    "# Data manipulation\n",
    "import pandas as pd\n",
    "\n",
    "# Visualization\n",
    "import matplotlib.pyplot as plt\n",
    "import seaborn as sns\n",
    "\n",
    "# Interactive visualization library\n",
    "import plotly.offline as py\n",
    "py.init_notebook_mode(connected=True)\n",
    "import plotly.graph_objs as go\n",
    "import plotly.figure_factory as ff\n",
    "import plotly.express as px"
   ]
  },
  {
   "cell_type": "markdown",
   "id": "4dfbc62f-9daa-4df7-98df-634cb276e599",
   "metadata": {},
   "source": [
    "Note, we will **not** be using the `datascience` library that was the focus in DATA 1202.  We will be transitioning to use industry-standard tools such as `pandas` and more. "
   ]
  },
  {
   "cell_type": "markdown",
   "id": "2bbdb889-684b-47da-abdd-d8a09fc9e928",
   "metadata": {},
   "source": [
    "# The Data Science Lifecycle \n",
    "\n",
    "Note, there are many versions of the data science lifecycle (with 4, 5, or 6 stages), but all express similar ideas.  \n",
    "\n",
    "For this class, we will use the following depiction of the lifecycle. \n",
    "\n",
    "<center><img src=\"images/ds-lifecycle.svg\" width=\"60%\"></center>\n",
    "\n",
    "**All steps lead to more questions!** We'll refer back to the data science lifecycle repeatedly throughout the course."
   ]
  },
  {
   "attachments": {},
   "cell_type": "markdown",
   "id": "c80d9ea6-07c9-4967-8943-5cea4fc336dc",
   "metadata": {},
   "source": [
    "## 1. Question/Problem Formulation\n",
    "<img src=\"images/ask.png\" width=\"300px\" />\n",
    "\n",
    "- What do we want to know?\n",
    "- What problems are we trying to solve?\n",
    "- What hypotheses do we want to test?\n",
    "- What are our metrics for success?"
   ]
  },
  {
   "cell_type": "markdown",
   "id": "e4180dab-690b-46c7-ad17-d9527893d21e",
   "metadata": {},
   "source": [
    "## 2. Data Acquisition and Cleaning\n",
    "<img src=\"images/data_acquisition.PNG\" width=\"300px\" />\n",
    "\n",
    "- What data do we have and what data do we need?\n",
    "- How will we sample more data?\n",
    "- Is our data representative of the population we want to study?"
   ]
  },
  {
   "cell_type": "markdown",
   "id": "cb7137c5-cf6b-4ce1-ba09-c12765aa47bc",
   "metadata": {},
   "source": [
    "## 3. Exploratory Data Analysis & Visualization\n",
    "<img src=\"images/understand_data.PNG\" width=\"300px\" />\n",
    "\n",
    "- How is our data organized and what does it contain?\n",
    "- Do we already have relevant data?\n",
    "- What are the biases, anomalies, or other issues with the data?\n",
    "- How do we transform the data to enable effective analysis?"
   ]
  },
  {
   "cell_type": "markdown",
   "id": "723fadab-9b17-4fd8-bd62-3383f42f4899",
   "metadata": {},
   "source": [
    "## 4. Prediction and Inference\n",
    "<img src=\"images/understand_world.PNG\" width=\"300px\" />\n",
    "\n",
    "- What does the data say about the world?\n",
    "- Does it answer our questions or accurately solve the problem?\n",
    "- How robust are our conclusions and can we trust the predictions? "
   ]
  },
  {
   "cell_type": "markdown",
   "id": "ee060d16-3394-4937-9bc8-ce22cd3987e2",
   "metadata": {},
   "source": [
    "## Data Science Lifecycle Demo: Are baby names starting with “L” more popular?\n"
   ]
  },
  {
   "cell_type": "markdown",
   "id": "3ba46d52-65fd-44c4-a41f-d8eb924a4fb4",
   "metadata": {},
   "source": [
    "## 1. Starting with a Question \n",
    "\n",
    "<img src=\"images/ask.png\" width=\"300px\" />\n",
    "\n",
    "### Lilith, Lilibet … Lucifer? How Baby Names Went to 'L'\n",
    "\n",
    "[This New York Times](https://www.nytimes.com/2021/06/12/style/lilibet-popular-baby-names.html?amp=&smid=fb-nytimes) article claims that baby names beginning with \"L\" have become more popular over time.\n",
    "\n",
    "Let's see if these claims are true, based on the data!\n"
   ]
  },
  {
   "cell_type": "markdown",
   "id": "01815224-8835-4c6e-aa00-405eabb1c26d",
   "metadata": {},
   "source": [
    "## 2. Data Acquisition and Cleaning \n",
    "\n",
    "**We will study various methods to collect data.**\n",
    "\n",
    "<img src=\"images/data_acquisition.PNG\" width=\"300px\" />\n",
    "\n",
    "To answer our quesiton on if \"L\" baby names have become more popular let's get some data (source: [SSA.gov website](https://www.ssa.gov/OACT/babynames/index.html))."
   ]
  },
  {
   "cell_type": "code",
   "execution_count": null,
   "id": "25c01567-53ca-4f43-a31b-0f89fedef333",
   "metadata": {},
   "outputs": [],
   "source": [
    "# pd stands for pandas, which we will learn starting from next lecture\n",
    "# Some pandas syntax shared with data8's datascience package\n",
    "baby = pd.read_csv('../data/baby.csv')"
   ]
  },
  {
   "cell_type": "markdown",
   "id": "ec606e85-fa14-4b68-9547-5e539739518d",
   "metadata": {},
   "source": [
    "## 3. Exploratory Data Analysis\n",
    "\n",
    "**We will study exploratory data analysis and practice analyzing new datasets.**\n",
    "\n",
    "<img src=\"images/understand_data.PNG\" width=\"300px\" />\n",
    "\n",
    "I didn't tell you the details of the data! Let's check out the data and infer its structure. Then we can start answering the simple questions we posed."
   ]
  },
  {
   "cell_type": "markdown",
   "id": "374472da-aece-4e94-babb-9c3b2b12455c",
   "metadata": {},
   "source": [
    "### Peeking at the Data"
   ]
  },
  {
   "cell_type": "code",
   "execution_count": null,
   "id": "838e4361-1b26-4233-bdf5-0345fc7896a8",
   "metadata": {},
   "outputs": [],
   "source": [
    "# Let's peek at the first 20 rows of the baby dataframe\n"
   ]
  },
  {
   "cell_type": "code",
   "execution_count": null,
   "id": "70768cf7-ac42-4ef3-a502-42fe8724ffa1",
   "metadata": {},
   "outputs": [],
   "source": [
    "# Let's peek at the first 5 rows (default) of the baby dataframe\n"
   ]
  },
  {
   "cell_type": "markdown",
   "id": "f35510df-b3e0-4357-a676-15946baa098f",
   "metadata": {},
   "source": [
    "### Exploratory Data Analysis on `baby` dataset \n",
    "\n"
   ]
  },
  {
   "cell_type": "markdown",
   "id": "eec52ee1-eee9-4f08-bbcc-d7b60042eb29",
   "metadata": {},
   "source": [
    "#### How many total babies are counted?"
   ]
  },
  {
   "cell_type": "code",
   "execution_count": null,
   "id": "850131f1-8bc3-4010-9b88-f5f7d6443649",
   "metadata": {},
   "outputs": [],
   "source": []
  },
  {
   "cell_type": "markdown",
   "id": "ae09c090-1ca1-4af1-9e83-080c3c79bd39",
   "metadata": {},
   "source": [
    "<div class=\"alert alert-block alert-warning\"> Don't worry about the syntax of the code today, we will dive into details starting on Wednesday.  </div>"
   ]
  },
  {
   "cell_type": "markdown",
   "id": "20c18127-3e3b-46b0-8e91-fd57f6cea1f3",
   "metadata": {},
   "source": [
    "####  How many unique names are there by year?"
   ]
  },
  {
   "cell_type": "code",
   "execution_count": null,
   "id": "d2bf305e-3107-4f60-8d93-77005c06c0fc",
   "metadata": {},
   "outputs": [],
   "source": []
  },
  {
   "cell_type": "markdown",
   "id": "89f22f96-01c9-48ec-86bc-4038c4a82114",
   "metadata": {},
   "source": [
    "##### *What does this tell us?* \n",
    "\n",
    "There are many more unique names reported in recent years than in the 1880s. "
   ]
  },
  {
   "cell_type": "markdown",
   "id": "dd9083a1-6b1c-478f-b4a1-97047716baa8",
   "metadata": {},
   "source": [
    "Why **doesn't** the above Series actually contain the number of unique names per year?"
   ]
  },
  {
   "cell_type": "code",
   "execution_count": null,
   "id": "5c751e43-a144-4731-ab0a-c266d23b99d6",
   "metadata": {},
   "outputs": [],
   "source": []
  },
  {
   "cell_type": "markdown",
   "id": "4a021e22-784e-457c-95ff-0d349a45548e",
   "metadata": {},
   "source": [
    "Filters the baby DataFrame to only include rows where Year is 1880, then counts the occurrences of each unique Name using value_counts('Name').\n",
    "<details>\n",
    "<summary>Click to show solution</summary>\n",
    "\n",
    "<pre>\n",
    "baby[(baby['Year'] == 1880)].value_counts('Name')\n",
    "</pre>\n",
    "</details>\n"
   ]
  },
  {
   "cell_type": "code",
   "execution_count": null,
   "id": "67b57c7c-2f9f-40d4-ba52-fb215ed4fa30",
   "metadata": {},
   "outputs": [],
   "source": []
  },
  {
   "cell_type": "markdown",
   "id": "1bcd1c51-a42e-416a-b605-1e0dee32a389",
   "metadata": {},
   "source": [
    "Selects rows from the baby DataFrame where: the Year is 1880, and the Name is 'Grace'.\n",
    "<details>\n",
    "<summary>Click to show solution</summary>\n",
    "\n",
    "<pre>\n",
    "baby[(baby['Year'] == 1880) & (baby['Name'] == 'Grace')]\n",
    "</pre>\n",
    "</details>\n"
   ]
  },
  {
   "cell_type": "code",
   "execution_count": null,
   "id": "45b11b1c-3f1c-4e94-971b-0bbb2451621e",
   "metadata": {},
   "outputs": [],
   "source": []
  },
  {
   "cell_type": "markdown",
   "id": "767e8437-14e1-4ad6-97e3-b0b5de818cde",
   "metadata": {},
   "source": [
    "#### How many babies were recorded per year? "
   ]
  },
  {
   "cell_type": "code",
   "execution_count": null,
   "id": "dee98fcf-0f7f-436f-9f78-dcd9a968675c",
   "metadata": {},
   "outputs": [],
   "source": [
    "baby.groupby('Year').sum().plot()"
   ]
  },
  {
   "cell_type": "markdown",
   "id": "b8ee576f-f01c-473e-95e3-ccb16ba7f987",
   "metadata": {},
   "source": [
    "#### What is the distribution of the length of babies names? "
   ]
  },
  {
   "cell_type": "code",
   "execution_count": null,
   "id": "8597b232-77f1-48fc-82eb-89ac8475b9f1",
   "metadata": {},
   "outputs": [],
   "source": [
    "name_lengths = baby['Name'].str.len()\n",
    "\n",
    "plt.hist(name_lengths, bins=range(min(name_lengths), max(name_lengths) + 2), edgecolor='black')\n",
    "plt.xlabel('Name Length')\n",
    "plt.ylabel('Frequency')\n",
    "plt.title('Distribution of Length of Names')\n",
    "average_length = name_lengths.sum() / len(name_lengths)\n",
    "plt.axvline(average_length, color='red', linestyle='dashed', linewidth=1, label=f'Average: {average_length:.2f}')\n",
    "plt.legend()\n",
    "plt.xticks(range(min(name_lengths), max(name_lengths) + 1))\n",
    "plt.show()"
   ]
  },
  {
   "cell_type": "markdown",
   "id": "82c8758c-dfd6-4d1c-b4d5-3be44d75a6de",
   "metadata": {},
   "source": [
    "## 4. Analysis: Understanding the World\n",
    "\n",
    "<img src=\"images/understand_world.PNG\" width=\"300px\" />"
   ]
  },
  {
   "cell_type": "markdown",
   "id": "af685767-a859-4ff2-902b-550124dbdb85",
   "metadata": {},
   "source": [
    "#### How many babies names start with \"L\"?"
   ]
  },
  {
   "cell_type": "code",
   "execution_count": null,
   "id": "408ee12b-8f37-4913-a72c-812940e931e9",
   "metadata": {},
   "outputs": [],
   "source": [
    "(baby\n",
    " .assign(first_letter=baby['Name'].str[0])\n",
    " .query('first_letter == \"L\"')\n",
    " .groupby('Year')\n",
    " .sum()\n",
    " .plot(title='Number of Babies Born with an \"L\" Name Per Year', ylabel=\"Count\")\n",
    ")"
   ]
  },
  {
   "cell_type": "markdown",
   "id": "b35e7a37-8354-4cb1-90b8-c19e0d1fdac8",
   "metadata": {},
   "source": [
    "### We will often use visualizations to make sense of data\n",
    "**We will deal with many different kinds of data (not just numbers) and we will study techniques to describe types of data.**\n",
    "\n",
    "**Can we look at popularity of individual names?** \n",
    "\n",
    "We can also see names changing in popularity over time [NBC News](https://www.nbcnews.com/data-graphics/baby-names-2023-most-popular-male-female-rcna151476)"
   ]
  },
  {
   "cell_type": "code",
   "execution_count": null,
   "id": "3a82e1aa-ffe4-4c7d-b9ad-ff4b8d4f67e2",
   "metadata": {},
   "outputs": [],
   "source": [
    "(baby\n",
    " .query('Name == \"Siri\"')\n",
    " .groupby('Year')\n",
    " .sum()\n",
    " .plot(title='Number of Babies Born Named \"Siri\" Per Year', ylabel=\"Count\")\n",
    ")"
   ]
  },
  {
   "cell_type": "code",
   "execution_count": null,
   "id": "4610236f-f434-416d-a52c-f316507c3f79",
   "metadata": {},
   "outputs": [],
   "source": [
    "def name_graph(name):\n",
    "    return (baby\n",
    "     .query(f'Name == \"{name}\"')\n",
    "     .groupby('Year')\n",
    "     .sum()\n",
    "     .plot(title=f'Number of Babies Born Named \"{name}\" Per Year', ylabel=\"Number\")\n",
    "    )"
   ]
  },
  {
   "cell_type": "code",
   "execution_count": null,
   "id": "ad23ea9a-d3b9-4e52-a1ed-6cb47bb9ff59",
   "metadata": {},
   "outputs": [],
   "source": [
    "name_graph('Arya')"
   ]
  },
  {
   "cell_type": "code",
   "execution_count": null,
   "id": "a323dc09-1a8a-485b-b473-3192157b38d8",
   "metadata": {},
   "outputs": [],
   "source": [
    "name_graph('Taylor')"
   ]
  },
  {
   "cell_type": "markdown",
   "id": "8c1a2591-a9a7-4b32-a658-af2a12aacace",
   "metadata": {},
   "source": [
    "## 1. New Questions \n",
    "\n",
    "Often as you start to become more familiar with your data, it may cause new questions to be raised, e.g., \n",
    "\n",
    "* What is the most popular name in the last decade?\n",
    "* What is the most popular name of all time?\n",
    "* What was the name with the largest drop in popularity?\n",
    "* What was the name with the largest increase in popularity?\n",
    "* What are the names that are used by both girls and boys the most?\n",
    "* ... "
   ]
  }
 ],
 "metadata": {
  "kernelspec": {
   "display_name": "data2201",
   "language": "python",
   "name": "data2201"
  },
  "language_info": {
   "codemirror_mode": {
    "name": "ipython",
    "version": 3
   },
   "file_extension": ".py",
   "mimetype": "text/x-python",
   "name": "python",
   "nbconvert_exporter": "python",
   "pygments_lexer": "ipython3",
   "version": "3.10.18"
  }
 },
 "nbformat": 4,
 "nbformat_minor": 5
}
