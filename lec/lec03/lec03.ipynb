{
 "cells": [
  {
   "cell_type": "markdown",
   "metadata": {},
   "source": [
    "# Lecture 3 – Pandas II\n",
    "\n",
    "### DATA 2201, Fall 2025\n",
    "\n",
    "A demonstration of advanced `pandas` syntax to accompany Lecture 3."
   ]
  },
  {
   "cell_type": "code",
   "execution_count": null,
   "metadata": {},
   "outputs": [],
   "source": [
    "import numpy as np\n",
    "import pandas as pd"
   ]
  },
  {
   "cell_type": "code",
   "execution_count": null,
   "metadata": {},
   "outputs": [],
   "source": [
    "# Loading the elections DataFrame\n",
    "elections = pd.read_csv(\"../data/elections.csv\")\n",
    "\n",
    "elections.head() "
   ]
  },
  {
   "cell_type": "markdown",
   "metadata": {},
   "source": [
    "## Slicing in `DataFrame`s"
   ]
  },
  {
   "cell_type": "markdown",
   "metadata": {},
   "source": [
    "### Review: Label-Based Extraction Using`loc`\n",
    "\n",
    "Arguments to `.loc` can be:\n",
    "1. A list.\n",
    "2. A slice (syntax is inclusive of the right-hand side of the slice).\n",
    "3. A single value."
   ]
  },
  {
   "cell_type": "markdown",
   "metadata": {},
   "source": [
    "#### For example: Selection by a list\n",
    "\n",
    "<details>\n",
    "<summary>Click to show solution</summary>\n",
    "\n",
    "<pre>\n",
    "\n",
    "elections.loc[[87, 25, 179], [\"Year\", \"Candidate\", \"Result\"]]\n",
    "\n",
    "</pre>\n",
    "</details>\n"
   ]
  },
  {
   "cell_type": "code",
   "execution_count": null,
   "metadata": {},
   "outputs": [],
   "source": [
    "# For example: Selection by a list\n",
    "elections.loc[[87, 25, 179], [\"Year\", \"Candidate\", \"Result\"]]"
   ]
  },
  {
   "cell_type": "markdown",
   "metadata": {},
   "source": [
    "### Review: Integer-Based Extraction Using `iloc`"
   ]
  },
  {
   "cell_type": "markdown",
   "metadata": {},
   "source": [
    "`iloc` selects items by row and column *integer* position.\n",
    "\n",
    "Arguments to `.iloc` can be:\n",
    "1. A list.\n",
    "2. A slice (syntax is exclusive of the right hand side of the slice).\n",
    "3. A single value.\n"
   ]
  },
  {
   "cell_type": "code",
   "execution_count": null,
   "metadata": {},
   "outputs": [],
   "source": [
    "# Select the rows at positions 1, 2, and 3.\n",
    "# Select the columns at positions 0, 1, and 2.\n",
    "# Remember that Python indexing begins at position 0!\n"
   ]
  },
  {
   "cell_type": "code",
   "execution_count": null,
   "metadata": {},
   "outputs": [],
   "source": [
    "# Index-based extraction using a list of rows and a slice of column indices\n"
   ]
  },
  {
   "cell_type": "code",
   "execution_count": null,
   "metadata": {},
   "outputs": [],
   "source": [
    "# Selecting all rows using a colon\n"
   ]
  },
  {
   "cell_type": "code",
   "execution_count": null,
   "metadata": {},
   "outputs": [],
   "source": []
  },
  {
   "cell_type": "code",
   "execution_count": null,
   "metadata": {},
   "outputs": [],
   "source": [
    "# Extracting the value at row 0 and the second column\n"
   ]
  },
  {
   "cell_type": "markdown",
   "metadata": {},
   "source": [
    "### Context-dependent Extraction using `[]`"
   ]
  },
  {
   "cell_type": "markdown",
   "metadata": {},
   "source": [
    "- We could technically do anything we want using `loc` or `iloc`. \n",
    "- However, in practice, the `[]` operator is often used instead to yield more concise code.\n",
    "\n",
    "- `[]` is a bit trickier to understand than `loc` or `iloc`, but it achieves essentially the same functionality.\n",
    "- The difference is that `[]` is *context-dependent*.\n",
    "\n",
    "- `[]` only takes one argument, which may be:\n",
    "    1. A slice of row integers.\n",
    "    2. A list of column labels.\n",
    "    3. A single column label.\n"
   ]
  },
  {
   "attachments": {},
   "cell_type": "markdown",
   "metadata": {},
   "source": [
    "## Why Use []?\n",
    "- In short: [ ] can be much more concise than .loc or .iloc\n",
    "- Consider the case where we wish to extract the \"Candidate\" column. It is far simpler to write elections[\"Candidate\"] than it is to write elections.loc[:, \"Candidate\"]\n",
    "\n",
    "- In practice, [ ] is often used over .iloc and .loc in data science work. Typing time adds up!\n"
   ]
  },
  {
   "cell_type": "markdown",
   "metadata": {},
   "source": [
    "If we provide a slice of row numbers, we get the numbered rows."
   ]
  },
  {
   "cell_type": "code",
   "execution_count": null,
   "metadata": {
    "tags": []
   },
   "outputs": [],
   "source": []
  },
  {
   "cell_type": "markdown",
   "metadata": {},
   "source": [
    "If we provide a list of column names, we get the listed columns."
   ]
  },
  {
   "cell_type": "code",
   "execution_count": null,
   "metadata": {},
   "outputs": [],
   "source": []
  },
  {
   "cell_type": "markdown",
   "metadata": {},
   "source": [
    "And if we provide a single column name we get back just that column, stored as a `Series`."
   ]
  },
  {
   "cell_type": "code",
   "execution_count": null,
   "metadata": {
    "tags": []
   },
   "outputs": [],
   "source": []
  },
  {
   "cell_type": "markdown",
   "metadata": {},
   "source": [
    "### Exercise - Check your understanding"
   ]
  },
  {
   "cell_type": "code",
   "execution_count": null,
   "metadata": {},
   "outputs": [],
   "source": [
    "weird = pd.DataFrame({\n",
    "    1:[\"topdog\",\"botdog\"], \n",
    "    \"1\":[\"topcat\",\"botcat\"]\n",
    "})\n",
    "weird"
   ]
  },
  {
   "cell_type": "markdown",
   "metadata": {},
   "source": [
    "A. What is the result of the following code? \n",
    "\n",
    "```python\n",
    "weird[1]\n",
    "```"
   ]
  },
  {
   "cell_type": "markdown",
   "metadata": {},
   "source": [
    "<details><summary>Click for Solution</summary> <br>\n",
    "    \n",
    "```python\n",
    "0    topdog\n",
    "1    botdog\n",
    "Name: 1, dtype: object\n",
    "```\n",
    "    \n",
    "</details><br>"
   ]
  },
  {
   "cell_type": "markdown",
   "metadata": {},
   "source": [
    "B. What is the result of the following code?\n",
    "\n",
    "```python\n",
    "weird[\"1\"]\n",
    "```"
   ]
  },
  {
   "cell_type": "markdown",
   "metadata": {},
   "source": [
    "<details><summary>Click for Solution</summary> <br>\n",
    "    \n",
    "```python\n",
    "0    topcat\n",
    "1    botcat\n",
    "Name: 1, dtype: object\n",
    "```\n",
    "    \n",
    "</details><br>"
   ]
  },
  {
   "cell_type": "markdown",
   "metadata": {},
   "source": [
    "C. What is the result of the following code?\n",
    "\n",
    "```python\n",
    "weird[1:]\n",
    "```\n"
   ]
  },
  {
   "cell_type": "code",
   "execution_count": null,
   "metadata": {},
   "outputs": [],
   "source": [
    "weird[1:]"
   ]
  },
  {
   "cell_type": "markdown",
   "metadata": {},
   "source": [
    "## Dataset: California baby names\n",
    "\n",
    "- In today's lecture, we'll work with the `babynames` dataset, which contains information about the names of infants born in California.\n",
    "\n",
    "- The cell below pulls census data from a government website and then loads it into a usable form.\n",
    "\n",
    "- The code shown here is outside of the scope of lecture (pandas), focus on it for the next examples and topics."
   ]
  },
  {
   "cell_type": "code",
   "execution_count": null,
   "metadata": {},
   "outputs": [],
   "source": [
    "import urllib.request\n",
    "import os.path\n",
    "import zipfile\n",
    "\n",
    "data_url = \"https://www.ssa.gov/oact/babynames/state/namesbystate.zip\"\n",
    "local_filename = \"../data/babynamesbystate.zip\"\n",
    "if not os.path.exists(local_filename): # If the data exists don't download again\n",
    "    with urllib.request.urlopen(data_url) as resp, open(local_filename, 'wb') as f:\n",
    "        f.write(resp.read())\n",
    "\n",
    "zf = zipfile.ZipFile(local_filename, 'r')\n",
    "\n",
    "ca_name = 'CA.TXT'\n",
    "field_names = ['State', 'Sex', 'Year', 'Name', 'Count']\n",
    "with zf.open(ca_name) as fh:\n",
    "    babynames = pd.read_csv(fh, header=None, names=field_names)\n",
    "\n",
    "babynames.head()"
   ]
  },
  {
   "attachments": {},
   "cell_type": "markdown",
   "metadata": {},
   "source": [
    "## Conditional Selection\n",
    "\n",
    "### Boolean Array Input for .loc and [ ]\n",
    "- We can extract data according to its integer position (.iloc) or its label (.loc)\n",
    "- What if we want to extract rows that satisfy a given condition?\n",
    ".loc and [ ]  also accept boolean arrays as input.\n",
    "- Rows corresponding to True are extracted; rows corresponding to False are not.\n"
   ]
  },
  {
   "cell_type": "code",
   "execution_count": null,
   "metadata": {},
   "outputs": [],
   "source": [
    "# Ask yourself: Why is :9 is the correct slice to select the first 10 rows?\n",
    "babynames_first_10_rows = ...\n",
    "\n",
    "babynames_first_10_rows"
   ]
  },
  {
   "cell_type": "markdown",
   "metadata": {},
   "source": [
    "- By passing in a sequence (list, array, or `Series`) of boolean values, we can extract a subset of the rows in a `DataFrame`.\n",
    "- We will keep *only* the rows that correspond to a boolean value of `True`."
   ]
  },
  {
   "cell_type": "code",
   "execution_count": null,
   "metadata": {},
   "outputs": [],
   "source": [
    "# Notice how we have exactly 10 elements in our boolean array argument.\n",
    "babynames_first_10_rows[[True, False, True, False, True, \n",
    "                         False, True, False, True, False]]"
   ]
  },
  {
   "cell_type": "code",
   "execution_count": null,
   "metadata": {},
   "outputs": [],
   "source": [
    "# Or using .loc to filter a DataFrame by a Boolean array argument.\n",
    "babynames_first_10_rows.loc[[True, False, True, False, True, \n",
    "                             False, True, False, True, False], :]\n"
   ]
  },
  {
   "cell_type": "markdown",
   "metadata": {},
   "source": [
    "#### Oftentimes, we'll use boolean selection to check for entries in a `DataFrame` that meet a particular condition."
   ]
  },
  {
   "cell_type": "code",
   "execution_count": null,
   "metadata": {},
   "outputs": [],
   "source": [
    "# First, use a logical condition to generate a boolean Series\n",
    "logical_operator = ...\n",
    "logical_operator"
   ]
  },
  {
   "cell_type": "code",
   "execution_count": null,
   "metadata": {},
   "outputs": [],
   "source": [
    "# Then, use this boolean Series to filter the DataFrame\n",
    "babynames[logical_operator]"
   ]
  },
  {
   "cell_type": "markdown",
   "metadata": {},
   "source": [
    "Boolean selection also works with `loc`!"
   ]
  },
  {
   "cell_type": "code",
   "execution_count": null,
   "metadata": {},
   "outputs": [],
   "source": [
    "# Notice that we did not have to specify columns to select \n",
    "# If no columns are referenced, pandas will automatically select all columns\n"
   ]
  },
  {
   "attachments": {},
   "cell_type": "markdown",
   "metadata": {},
   "source": [
    "### Bitwise Operators\n",
    "\n",
    "To filter on multiple conditions, we combine boolean operators using **bitwise comparisons**.\n",
    "\n",
    "Symbol | Usage      | Meaning \n",
    "------ | ---------- | -------------------------------------\n",
    "~    | ~p       | Returns negation of p\n",
    "&#124; | p &#124; q | p OR q\n",
    "&    | p & q    | p AND q\n",
    "^  | p ^ q | p XOR q (exclusive or)"
   ]
  },
  {
   "cell_type": "markdown",
   "metadata": {},
   "source": [
    "#### Example:\n",
    "- This line filters the babynames DataFrame to return only the rows where:\n",
    "    - The baby is female (Sex == \"F\"), and\n",
    "    - The birth year is before 2000 (Year < 2000)\n",
    "\n",
    "\n",
    "<details>\n",
    "<summary>Click to show solution</summary>\n",
    "\n",
    "<pre>\n",
    "\n",
    "babynames[(babynames[\"Sex\"] == \"F\") & (babynames[\"Year\"] < 2000)]\n",
    "\n",
    "</pre>\n",
    "</details>\n"
   ]
  },
  {
   "cell_type": "code",
   "execution_count": null,
   "metadata": {},
   "outputs": [],
   "source": []
  },
  {
   "cell_type": "markdown",
   "metadata": {},
   "source": [
    "#### Repeat the earlier example with '|' operator"
   ]
  },
  {
   "cell_type": "code",
   "execution_count": null,
   "metadata": {},
   "outputs": [],
   "source": []
  },
  {
   "cell_type": "markdown",
   "metadata": {},
   "source": [
    "### Exercise - Check your understanding \n",
    "\n",
    "How could you write a pandas statement to return a DataFrame of the first 3 baby names with Count > 250?\n",
    "\n"
   ]
  },
  {
   "cell_type": "code",
   "execution_count": null,
   "metadata": {},
   "outputs": [],
   "source": []
  },
  {
   "cell_type": "markdown",
   "metadata": {},
   "source": [
    "<details><summary>Click for Solution</summary> <br>\n",
    "\n",
    "If you know the rows of data that meet this condition: \n",
    "\n",
    "```python\n",
    "babynames.iloc[[0, 233, 484], [3, 4]]\n",
    "# or \n",
    "babynames.loc[[0, 233, 484]]\n",
    "```\n",
    "\n",
    "Alternatively, use a conditional selection and then select the first three rows:\n",
    "```python\n",
    "babynames.loc[babynames[\"Count\"] > 250, [\"Name\", \"Count\"]].head(3)\n",
    "# or \n",
    "babynames.loc[babynames[\"Count\"] > 250, [\"Name\", \"Count\"]].iloc[0:2, :]\n",
    "```\n",
    "    \n",
    "</details><br>"
   ]
  },
  {
   "cell_type": "code",
   "execution_count": null,
   "metadata": {},
   "outputs": [],
   "source": [
    "# Note: The parentheses surrounding the code make it possible to break the code into multiple lines for readability\n",
    "\n",
    "(\n",
    "    babynames[(babynames[\"Name\"] == \"Bella\") | \n",
    "              (babynames[\"Name\"] == \"Alex\") |\n",
    "              (babynames[\"Name\"] == \"Narges\") |\n",
    "              (babynames[\"Name\"] == \"Lisa\")]\n",
    ")\n"
   ]
  },
  {
   "cell_type": "code",
   "execution_count": null,
   "metadata": {},
   "outputs": [],
   "source": [
    "# A more concise method to achieve the above: .isin\n",
    "names = [\"Bella\", \"Alex\", \"Narges\", \"Lisa\"]\n",
    "\n"
   ]
  },
  {
   "cell_type": "markdown",
   "metadata": {},
   "source": [
    "\n",
    "<details>\n",
    "<summary>Click to show solution</summary>\n",
    "\n",
    "<pre>\n",
    "\n",
    "display(babynames[\"Name\"].isin(names))\n",
    "display(babynames[babynames[\"Name\"].isin(names)])\n",
    "\n",
    "</pre>\n",
    "</details>"
   ]
  },
  {
   "cell_type": "code",
   "execution_count": null,
   "metadata": {},
   "outputs": [],
   "source": [
    "# What if we only want names that start with \"N\"?\n"
   ]
  },
  {
   "cell_type": "markdown",
   "metadata": {},
   "source": [
    "\n",
    "<details>\n",
    "<summary>Click to show solution</summary>\n",
    "\n",
    "<pre>\n",
    "\n",
    "display(babynames[\"Name\"].str.startswith(\"N\"))\n",
    "display(babynames[babynames[\"Name\"].str.startswith(\"N\")])\n",
    "\n",
    "</pre>\n",
    "</details>"
   ]
  },
  {
   "cell_type": "markdown",
   "metadata": {},
   "source": [
    "## Adding, Removing, and Modifying Columns"
   ]
  },
  {
   "attachments": {},
   "cell_type": "markdown",
   "metadata": {},
   "source": [
    "#### Adding a column is easy:\n",
    "\n",
    "- To add a column, use `[]` to reference the desired new column.\n",
    "- Assign it to a `Series` or array of appropriate length."
   ]
  },
  {
   "cell_type": "code",
   "execution_count": null,
   "metadata": {},
   "outputs": [],
   "source": [
    "# Create a Series of the length of each name\n",
    "babyname_lengths = ...\n",
    "\n",
    "# Add a column named \"name_lengths\" that includes the length of each name\n",
    "babynames[\"name_lengths\"] = babyname_lengths\n",
    "\n",
    "babynames"
   ]
  },
  {
   "attachments": {},
   "cell_type": "markdown",
   "metadata": {},
   "source": [
    "#### Modifying a column is very similar to adding a column.\n",
    "\n",
    "- To modify a column, use `[]` to access the desired column. \n",
    "- Re-assign it to a new array or Series."
   ]
  },
  {
   "cell_type": "code",
   "execution_count": null,
   "metadata": {},
   "outputs": [],
   "source": [
    "# Modify the \"name_lengths\" column to be one less than its original value\n",
    "babynames[\"name_lengths\"] = ...\n",
    "babynames"
   ]
  },
  {
   "attachments": {},
   "cell_type": "markdown",
   "metadata": {},
   "source": [
    "### Syntax for Renaming a Column\n",
    "\n",
    "- Rename a column using the (creatively named) `.rename()` method.\n",
    "    - `.rename()` takes in a dictionary that maps old column names to new ones.\n"
   ]
  },
  {
   "cell_type": "code",
   "execution_count": null,
   "metadata": {},
   "outputs": [],
   "source": [
    "# Rename \"name_lengths\" to \"Length\"\n",
    "babynames = ...\n",
    "babynames"
   ]
  },
  {
   "attachments": {},
   "cell_type": "markdown",
   "metadata": {},
   "source": [
    "### Syntax for Dropping a Column (or Row)\n",
    "- Remove a column using `.drop()`.\n",
    "- The `.drop()` method assumes you're dropping a row by default. Use axis = \"columns\" to drop a column instead.\n"
   ]
  },
  {
   "cell_type": "code",
   "execution_count": null,
   "metadata": {},
   "outputs": [],
   "source": [
    "# Remove our new \"Length\" column\n",
    "babynames = ...\n",
    "babynames"
   ]
  },
  {
   "cell_type": "markdown",
   "metadata": {},
   "source": [
    "## Useful Utility Functions"
   ]
  },
  {
   "cell_type": "markdown",
   "metadata": {},
   "source": [
    "#### `NumPy`"
   ]
  },
  {
   "cell_type": "markdown",
   "metadata": {},
   "source": [
    "The `NumPy` functions you encountered in [Data 8](https://www.data8.org/su23/reference/#array-functions-and-methods) are compatible with objects in `pandas`. "
   ]
  },
  {
   "cell_type": "code",
   "execution_count": null,
   "metadata": {},
   "outputs": [],
   "source": [
    "yash_counts = ...\n",
    "yash_counts"
   ]
  },
  {
   "cell_type": "markdown",
   "metadata": {},
   "source": [
    "\n",
    "<details>\n",
    "<summary>Click to show solution</summary>\n",
    "\n",
    "<pre>\n",
    "\n",
    "yash_counts = babynames[babynames[\"Name\"] == \"Yash\"][\"Count\"]\n",
    "\n",
    "</pre>\n",
    "</details>\n",
    "\n"
   ]
  },
  {
   "cell_type": "code",
   "execution_count": null,
   "metadata": {},
   "outputs": [],
   "source": [
    "# Average number of babies named Yash each year\n",
    "\n"
   ]
  },
  {
   "cell_type": "code",
   "execution_count": null,
   "metadata": {},
   "outputs": [],
   "source": [
    "# Max number of babies named Yash born in any single year\n",
    "\n"
   ]
  },
  {
   "cell_type": "markdown",
   "metadata": {},
   "source": [
    "#### Built-In `pandas` Methods\n",
    "\n",
    "- There are *many* utility functions built into `pandas`, far more than we can possibly cover in lecture.\n",
    "- You are encouraged to explore all the functionality outlined in the `pandas` [documentation](https://pandas.pydata.org/docs/reference/index.html)."
   ]
  },
  {
   "cell_type": "code",
   "execution_count": null,
   "metadata": {},
   "outputs": [],
   "source": [
    "# Returns the shape of the object in the format (num_rows, num_columns)\n"
   ]
  },
  {
   "cell_type": "code",
   "execution_count": null,
   "metadata": {},
   "outputs": [],
   "source": [
    "# Returns the total number of entries in the object, equal to num_rows * num_columns\n"
   ]
  },
  {
   "cell_type": "code",
   "execution_count": null,
   "metadata": {},
   "outputs": [],
   "source": [
    "# What summary statistics can we describe?\n"
   ]
  },
  {
   "cell_type": "code",
   "execution_count": null,
   "metadata": {},
   "outputs": [],
   "source": [
    "# Our statistics are slightly different when working with a Series\n"
   ]
  },
  {
   "cell_type": "code",
   "execution_count": null,
   "metadata": {},
   "outputs": [],
   "source": [
    "# Randomly sample row(s) from the DataFrame\n"
   ]
  },
  {
   "cell_type": "code",
   "execution_count": null,
   "metadata": {},
   "outputs": [],
   "source": [
    "# Rerun this cell a few times – you'll get different results!\n"
   ]
  },
  {
   "cell_type": "markdown",
   "metadata": {},
   "source": [
    "\n",
    "<details>\n",
    "<summary>Click to show solution</summary>\n",
    "\n",
    "<pre>\n",
    "\n",
    "babynames.sample(5).iloc[:, 2:]\n",
    "\n",
    "</pre>\n",
    "</details>\n",
    "\n"
   ]
  },
  {
   "cell_type": "code",
   "execution_count": null,
   "metadata": {},
   "outputs": [],
   "source": [
    "# Sampling with replacement\n"
   ]
  },
  {
   "cell_type": "markdown",
   "metadata": {},
   "source": [
    "\n",
    "<details>\n",
    "<summary>Click to show solution</summary>\n",
    "\n",
    "<pre>\n",
    "\n",
    "babynames[babynames[\"Year\"] == 2000].sample(4, replace = True).iloc[:,2:]\n",
    "\n",
    "</pre>\n",
    "</details>\n"
   ]
  },
  {
   "cell_type": "code",
   "execution_count": null,
   "metadata": {},
   "outputs": [],
   "source": [
    "# Count the number of times each unique value occurs in a Series\n"
   ]
  },
  {
   "cell_type": "code",
   "execution_count": null,
   "metadata": {},
   "outputs": [],
   "source": [
    "# Return an array of all unique values in the Series\n"
   ]
  },
  {
   "cell_type": "code",
   "execution_count": null,
   "metadata": {},
   "outputs": [],
   "source": [
    "# Sort a Series\n"
   ]
  },
  {
   "cell_type": "code",
   "execution_count": null,
   "metadata": {
    "scrolled": true
   },
   "outputs": [],
   "source": [
    "# Sort a DataFrame – there are lots of Michaels in California\n"
   ]
  },
  {
   "cell_type": "markdown",
   "metadata": {},
   "source": [
    "\n",
    "<details>\n",
    "<summary>Click to show solution</summary>\n",
    "\n",
    "<pre>\n",
    "\n",
    "babynames.sort_values(by=\"Count\", ascending=False)\n",
    "\n",
    "</pre>\n",
    "</details>\n",
    "\n"
   ]
  }
 ],
 "metadata": {
  "kernelspec": {
   "display_name": "data2201",
   "language": "python",
   "name": "data2201"
  },
  "language_info": {
   "codemirror_mode": {
    "name": "ipython",
    "version": 3
   },
   "file_extension": ".py",
   "mimetype": "text/x-python",
   "name": "python",
   "nbconvert_exporter": "python",
   "pygments_lexer": "ipython3",
   "version": "3.10.18"
  }
 },
 "nbformat": 4,
 "nbformat_minor": 4
}
